{
 "cells": [
  {
   "cell_type": "markdown",
   "metadata": {},
   "source": [
    "# Data Mining and Visualisation -- Lab 4"
   ]
  },
  {
   "cell_type": "markdown",
   "metadata": {},
   "source": [
    "In this lab, you will have a go at exploring a new dataset that has been added to the MyAberdeen Datasets folder, and will work through a popular Kaggle script to undertake an A/B test on a real-life mobile game: Cookie Cats.\n",
    "\n",
    "Source: This data was originally from a [Data Camp project](https://www.datacamp.com/projects/184), and has since been made available (and has been the subject of various analyses) on [Kaggle](https://www.kaggle.com/datasets/yufengsui/mobile-games-ab-testing). \n",
    "\n",
    "The below source code that we will be working through is from Kaggle users [serdarozturk](https://www.kaggle.com/code/serdarsozturk/a-b-mobilegame) and [muhammetgamal5](https://www.kaggle.com/code/muhammetgamal5/cookie-cats-a-b-testing-p-value), taking the best of both scripts to explore the EDA, data pre-processing, and statistical testing process.\n",
    "\n",
    "___"
   ]
  },
  {
   "cell_type": "markdown",
   "metadata": {},
   "source": [
    "## A/B MobileGame /ᐠ｡ꞈ｡ᐟ\\ \n",
    "\n",
    "The process of decision making in design has always been a popular area of discussion. Why do some designers make choices that others don’t, and why do some designs seemingly work better than others?\n",
    "\n",
    "From academic study to sketches and anecdotes, the design world is fascinated with process. But for all of the legendary stories of lore, few anecdotes in recent times have had the staying power of Google and its 41 shades of blue.\n",
    "\n",
    "In trying to determine which out of 2 shades of blue to use for link text, Google tested not only the 2, but also the 39 shades of blue in between. The story outlines a relatively minute decision but highlights a rapidly growing approach to making decisions. One based in experimentation, alternatives, and, most importantly, data.\n",
    "\n",
    "\n",
    "\n",
    "1. Define your conversion goal. In this example, you want to measure click-through rate. \n",
    "\n",
    "2. Design the A/B test. How big of a sample size do you want? Who will participate, new customers or existing customers? \n",
    "\n",
    "3. Gather data. Will you run your own test or use A/B testing software? For how long will the test run?\n",
    "\n",
    "4. Analyze the results. Which variation had the biggest positive impact on the conversion metric that matters most? \n",
    "\n",
    "\n",
    "\n",
    "**AB Testing Process**\n",
    "\n",
    "* Understanding business problem & data\n",
    "* Detect and resolve problems in the data (Missing Value, Outliers, Unexpected Value)\n",
    "* Look summary stats and plots\n",
    "* Apply hypothesis testing and check assumptions\n",
    "* Check Normality & Homogeneity\n",
    "* Apply tests (Shapiro, Levene Test, T-Test, Welch Test, Mann Whitney U Test)\n",
    "* Evaluate the results\n",
    "* Make inferences\n",
    "* Recommend business decision to your customer/director/ceo etc.\n",
    "\n"
   ]
  },
  {
   "cell_type": "markdown",
   "metadata": {},
   "source": [
    "\n",
    "\n",
    "#### Descriptions: The data is about an A/B test with a mobile game called \"Cookie Cats\".\n",
    "\n",
    "Cookie Cats is a hugely popular mobile puzzle game developed by Tactile Entertainment. It's a classic \"connect three\" style puzzle game where the player must connect tiles of the same color in order to clear the board and win the level. It also features singing cats. We're not kidding!\n",
    "\n",
    "As players progress through the game they will encounter gates that force them to wait some time before they can progress or make an in-app purchase. In this project, we will analyze the result of an A/B test where the first gate in Cookie Cats was moved from level 30 to level 40. In particular, we will analyze the impact on player retention and game rounds.\n",
    "\n",
    "To complete this project, you should be comfortable working with pandas DataFrames and with using the pandas plot method. You should also have some understanding of hypothesis testing and bootstrap analysis.\n",
    "\n",
    "\n",
    "#### Dataset columns descriptions:\n",
    "\n",
    "* `userid`: A unique number that identifies each player.\n",
    "* `version`: Whether the player was put in the control group (gate_30 - a gate at level 30) or the group with the moved gate (gate_40 - a gate at level 40).\n",
    "* `sum_gamerounds`: The number of game rounds played by the player during the first 14 days after install.\n",
    "* `retention_1`: Did the player come back and play 1 day after installing?\n",
    "* `retention_7`: Did the player come back and play 7 days after installing?\n",
    "\n",
    "\n",
    "#### Question:\n",
    "\n",
    "*  Should we keep using the old version for cookie cats game or release the new version? "
   ]
  },
  {
   "cell_type": "markdown",
   "metadata": {},
   "source": [
    "###  Packages-Libraries-Settings"
   ]
  },
  {
   "cell_type": "code",
   "execution_count": 33,
   "metadata": {},
   "outputs": [],
   "source": [
    "#!pip install statsmodels\n",
    "import itertools\n",
    "import numpy as np\n",
    "import pandas as pd\n",
    "import matplotlib.pyplot as plt\n",
    "import seaborn as sns\n",
    "sns.set_style('whitegrid')\n",
    "palette = 'Set2'\n",
    "import warnings\n",
    "warnings.filterwarnings(\"ignore\")\n",
    "warnings.simplefilter(action='ignore', category=FutureWarning)\n",
    "import statsmodels.stats.api as sms\n",
    "from scipy.stats import ttest_1samp, shapiro, levene, ttest_ind, mannwhitneyu, \\\n",
    "    pearsonr, spearmanr, kendalltau, f_oneway, kruskal, normaltest\n",
    "from statsmodels.stats.proportion import proportions_ztest\n",
    "\n",
    "pd.set_option('display.max_columns', None)\n",
    "pd.set_option('display.max_rows', 20)\n",
    "pd.set_option('display.width', 180)\n",
    "pd.set_option('display.float_format', lambda x: '%.5f' % x)\n",
    "\n",
    "\n",
    "# Make sure that our plots are visualised in jupyter\n",
    "%matplotlib inline"
   ]
  },
  {
   "cell_type": "markdown",
   "metadata": {},
   "source": [
    "\n",
    "### Data Wrangling\n",
    "\n",
    " **This is a three step process:**\n",
    "\n",
    "*  Gathering the data from Dataset and investegate it trying to understand more details about it. \n",
    "*  Assessing data to identify any issues with data types, structure, or quality.\n",
    "*  Cleaning data by changing data types, replacing values, removing unnecessary data and modifying Dataset for easy and fast analysis.\n",
    "\n",
    "\n",
    "The Cookie Cats A/B test data is available in the MyAberdeen datasets folder:  `cookie_cats.csv`."
   ]
  },
  {
   "cell_type": "code",
   "execution_count": 34,
   "metadata": {},
   "outputs": [
    {
     "data": {
      "text/html": [
       "<div>\n",
       "<style scoped>\n",
       "    .dataframe tbody tr th:only-of-type {\n",
       "        vertical-align: middle;\n",
       "    }\n",
       "\n",
       "    .dataframe tbody tr th {\n",
       "        vertical-align: top;\n",
       "    }\n",
       "\n",
       "    .dataframe thead th {\n",
       "        text-align: right;\n",
       "    }\n",
       "</style>\n",
       "<table border=\"1\" class=\"dataframe\">\n",
       "  <thead>\n",
       "    <tr style=\"text-align: right;\">\n",
       "      <th></th>\n",
       "      <th>userid</th>\n",
       "      <th>version</th>\n",
       "      <th>sum_gamerounds</th>\n",
       "      <th>retention_1</th>\n",
       "      <th>retention_7</th>\n",
       "    </tr>\n",
       "  </thead>\n",
       "  <tbody>\n",
       "    <tr>\n",
       "      <th>0</th>\n",
       "      <td>116</td>\n",
       "      <td>gate_30</td>\n",
       "      <td>3</td>\n",
       "      <td>False</td>\n",
       "      <td>False</td>\n",
       "    </tr>\n",
       "    <tr>\n",
       "      <th>1</th>\n",
       "      <td>337</td>\n",
       "      <td>gate_30</td>\n",
       "      <td>38</td>\n",
       "      <td>True</td>\n",
       "      <td>False</td>\n",
       "    </tr>\n",
       "    <tr>\n",
       "      <th>2</th>\n",
       "      <td>377</td>\n",
       "      <td>gate_40</td>\n",
       "      <td>165</td>\n",
       "      <td>True</td>\n",
       "      <td>False</td>\n",
       "    </tr>\n",
       "    <tr>\n",
       "      <th>3</th>\n",
       "      <td>483</td>\n",
       "      <td>gate_40</td>\n",
       "      <td>1</td>\n",
       "      <td>False</td>\n",
       "      <td>False</td>\n",
       "    </tr>\n",
       "    <tr>\n",
       "      <th>4</th>\n",
       "      <td>488</td>\n",
       "      <td>gate_40</td>\n",
       "      <td>179</td>\n",
       "      <td>True</td>\n",
       "      <td>True</td>\n",
       "    </tr>\n",
       "  </tbody>\n",
       "</table>\n",
       "</div>"
      ],
      "text/plain": [
       "   userid  version  sum_gamerounds  retention_1  retention_7\n",
       "0     116  gate_30               3        False        False\n",
       "1     337  gate_30              38         True        False\n",
       "2     377  gate_40             165         True        False\n",
       "3     483  gate_40               1        False        False\n",
       "4     488  gate_40             179         True         True"
      ]
     },
     "execution_count": 34,
     "metadata": {},
     "output_type": "execute_result"
    }
   ],
   "source": [
    "df = pd.read_csv(\"cookie_cats.csv\")\n",
    "\n",
    "df.head()"
   ]
  },
  {
   "cell_type": "markdown",
   "metadata": {},
   "source": [
    "### Assessing Data"
   ]
  },
  {
   "cell_type": "code",
   "execution_count": 35,
   "metadata": {},
   "outputs": [
    {
     "name": "stdout",
     "output_type": "stream",
     "text": [
      "<class 'pandas.core.frame.DataFrame'>\n",
      "RangeIndex: 90189 entries, 0 to 90188\n",
      "Data columns (total 5 columns):\n",
      " #   Column          Non-Null Count  Dtype \n",
      "---  ------          --------------  ----- \n",
      " 0   userid          90189 non-null  int64 \n",
      " 1   version         90189 non-null  object\n",
      " 2   sum_gamerounds  90189 non-null  int64 \n",
      " 3   retention_1     90189 non-null  bool  \n",
      " 4   retention_7     90189 non-null  bool  \n",
      "dtypes: bool(2), int64(2), object(1)\n",
      "memory usage: 2.2+ MB\n"
     ]
    }
   ],
   "source": [
    "#checking Dataframe basic informations (columns names, number of values, data types ......)\n",
    "\n",
    "df.info()"
   ]
  },
  {
   "cell_type": "code",
   "execution_count": 36,
   "metadata": {},
   "outputs": [
    {
     "data": {
      "text/plain": [
       "(90189, 5)"
      ]
     },
     "execution_count": 36,
     "metadata": {},
     "output_type": "execute_result"
    }
   ],
   "source": [
    "#checking Dataframe shape (number of rows and columns)\n",
    "\n",
    "df.shape"
   ]
  },
  {
   "cell_type": "code",
   "execution_count": 37,
   "metadata": {},
   "outputs": [
    {
     "data": {
      "text/plain": [
       "userid            0\n",
       "version           0\n",
       "sum_gamerounds    0\n",
       "retention_1       0\n",
       "retention_7       0\n",
       "dtype: int64"
      ]
     },
     "execution_count": 37,
     "metadata": {},
     "output_type": "execute_result"
    }
   ],
   "source": [
    "# checking for NaN values patients\n",
    "\n",
    "df.isnull().sum()"
   ]
  },
  {
   "cell_type": "code",
   "execution_count": 38,
   "metadata": {},
   "outputs": [
    {
     "data": {
      "text/plain": [
       "0"
      ]
     },
     "execution_count": 38,
     "metadata": {},
     "output_type": "execute_result"
    }
   ],
   "source": [
    "#checking for duplicated rows \n",
    "\n",
    "df.duplicated().sum()"
   ]
  },
  {
   "cell_type": "code",
   "execution_count": 39,
   "metadata": {},
   "outputs": [
    {
     "data": {
      "text/plain": [
       "0"
      ]
     },
     "execution_count": 39,
     "metadata": {},
     "output_type": "execute_result"
    }
   ],
   "source": [
    "# checking for duplicated with subset \n",
    "\n",
    "df.userid.duplicated().sum()"
   ]
  },
  {
   "cell_type": "markdown",
   "metadata": {},
   "source": [
    "### Exploratory Data Analysis\n",
    "\n",
    "Now I'm going to explore this dataset.\n"
   ]
  },
  {
   "cell_type": "code",
   "execution_count": 40,
   "metadata": {},
   "outputs": [
    {
     "data": {
      "text/plain": [
       "version\n",
       "gate_30    44700\n",
       "gate_40    45489\n",
       "Name: userid, dtype: int64"
      ]
     },
     "execution_count": 40,
     "metadata": {},
     "output_type": "execute_result"
    }
   ],
   "source": [
    "# Counting the number of players in each group.\n",
    "df.groupby(\"version\")[\"userid\"].count()"
   ]
  },
  {
   "cell_type": "code",
   "execution_count": 41,
   "metadata": {},
   "outputs": [
    {
     "data": {
      "image/png": "[encoded data removed]",
      "text/plain": [
       "<Figure size 640x480 with 1 Axes>"
      ]
     },
     "metadata": {},
     "output_type": "display_data"
    }
   ],
   "source": [
    "sns.countplot(x=\"version\",data=df);"
   ]
  },
  {
   "cell_type": "code",
   "execution_count": 42,
   "metadata": {},
   "outputs": [
    {
     "data": {
      "text/plain": [
       "version\n",
       "gate_30   0.44819\n",
       "gate_40   0.44228\n",
       "Name: retention_1, dtype: float64"
      ]
     },
     "execution_count": 42,
     "metadata": {},
     "output_type": "execute_result"
    }
   ],
   "source": [
    "# Counting the retention_1 proptions in each group.\n",
    "df.groupby(\"version\")[\"retention_1\"].mean()"
   ]
  },
  {
   "cell_type": "code",
   "execution_count": 43,
   "metadata": {},
   "outputs": [
    {
     "data": {
      "image/png": "[encoded data removed]",
      "text/plain": [
       "<Figure size 640x480 with 1 Axes>"
      ]
     },
     "metadata": {},
     "output_type": "display_data"
    }
   ],
   "source": [
    "df.groupby(\"version\")[\"retention_1\"].mean().plot(kind=\"bar\", color=[ \"navy\", \"darkorange\"]);"
   ]
  },
  {
   "cell_type": "code",
   "execution_count": 44,
   "metadata": {},
   "outputs": [
    {
     "data": {
      "text/plain": [
       "version\n",
       "gate_30   0.19020\n",
       "gate_40   0.18200\n",
       "Name: retention_7, dtype: float64"
      ]
     },
     "execution_count": 44,
     "metadata": {},
     "output_type": "execute_result"
    }
   ],
   "source": [
    "# Counting the retention_7 proptions in each group.\n",
    "df.groupby(\"version\")[\"retention_7\"].mean()"
   ]
  },
  {
   "cell_type": "code",
   "execution_count": 45,
   "metadata": {},
   "outputs": [
    {
     "data": {
      "image/png": "[encoded data removed]",
      "text/plain": [
       "<Figure size 640x480 with 1 Axes>"
      ]
     },
     "metadata": {},
     "output_type": "display_data"
    }
   ],
   "source": [
    "df.groupby(\"version\")[\"retention_7\"].mean().plot(kind=\"bar\", color=[ \"maroon\", \"goldenrod\"]);"
   ]
  },
  {
   "cell_type": "code",
   "execution_count": 46,
   "metadata": {},
   "outputs": [
    {
     "data": {
      "text/plain": [
       "version\n",
       "gate_30   52.45626\n",
       "gate_40   51.29878\n",
       "Name: sum_gamerounds, dtype: float64"
      ]
     },
     "execution_count": 46,
     "metadata": {},
     "output_type": "execute_result"
    }
   ],
   "source": [
    "# Counting the sum_gamerounds means in each group.\n",
    "df.groupby(\"version\")[\"sum_gamerounds\"].mean()"
   ]
  },
  {
   "cell_type": "code",
   "execution_count": 47,
   "metadata": {},
   "outputs": [
    {
     "data": {
      "image/png": "[encoded data removed]",
      "text/plain": [
       "<Figure size 640x480 with 1 Axes>"
      ]
     },
     "metadata": {},
     "output_type": "display_data"
    }
   ],
   "source": [
    "df.groupby(\"version\")[\"sum_gamerounds\"].mean().plot(kind=\"bar\", color=[ \"olive\", \"tomato\"]);"
   ]
  },
  {
   "cell_type": "markdown",
   "metadata": {},
   "source": [
    "Retention variables gives us player retention details.\n",
    "\n",
    "* retention_1 - did the player come back and play 1 day after installing?\n",
    "* retention_7 - did the player come back and play 7 days after installing?\n",
    "Also players tend not to play the game! There are many players who quit the game.\n",
    "\n",
    "* 55 percent of the players didn't play the game 1 day after insalling\n",
    "* 81 percent of the players didn't play the game 7 day after insalling"
   ]
  },
  {
   "cell_type": "code",
   "execution_count": 48,
   "metadata": {},
   "outputs": [
    {
     "data": {
      "text/plain": [
       "45094        0\n",
       "56753        0\n",
       "56786        0\n",
       "56834        0\n",
       "56876        0\n",
       "         ...  \n",
       "48188     2294\n",
       "43671     2438\n",
       "29417     2640\n",
       "7912      2961\n",
       "57702    49854\n",
       "Name: sum_gamerounds, Length: 90189, dtype: int64"
      ]
     },
     "execution_count": 48,
     "metadata": {},
     "output_type": "execute_result"
    }
   ],
   "source": [
    "df['sum_gamerounds'].sort_values()"
   ]
  },
  {
   "cell_type": "code",
   "execution_count": 49,
   "metadata": {},
   "outputs": [
    {
     "data": {
      "image/png": "[encoded data removed]",
      "text/plain": [
       "<Figure size 1200x800 with 1 Axes>"
      ]
     },
     "metadata": {},
     "output_type": "display_data"
    }
   ],
   "source": [
    "fig, ax = plt.subplots(figsize = (12, 8), facecolor = \"#FFFFFF\")\n",
    "ax.set_facecolor(\"#FFFFFF\")\n",
    "\n",
    "sns.boxplot(data=df, x=\"sum_gamerounds\", y=\"version\", hue=\"version\", dodge=False,\n",
    "            flierprops={\"marker\": \"x\"}, width=.8, fliersize=10)\n",
    "plt.title('Before Removing The Extreme Values', size = 10, color='#443C68')\n",
    "plt.ylabel('.', size = 10,color=\"#443C68\" )\n",
    "plt.xlabel('sum_gamerounds Density', fontsize = 10,color=\"#443C68\" )\n",
    "plt.xticks(size = 10)\n",
    "plt.yticks(size = 10)\n",
    "plt.show()"
   ]
  },
  {
   "cell_type": "markdown",
   "metadata": {},
   "source": [
    "As can be seen from the data, there are outliers in the sum_gamerounds column. What if we set up our hypotheses without clearing out the outliers? Let's see... \n",
    "\n",
    "\n",
    "### A/B Testing Before Removing The Extreme Values \n",
    "\n",
    "H0: Distribution is Normal! \n",
    "\n",
    "H1: Distribution is not Normal! \n",
    "\n",
    "H0: M1 = M2\n",
    "\n",
    "H1: M1 != M2\n"
   ]
  },
  {
   "cell_type": "code",
   "execution_count": 50,
   "metadata": {},
   "outputs": [
    {
     "data": {
      "text/plain": [
       "90189"
      ]
     },
     "execution_count": 50,
     "metadata": {},
     "output_type": "execute_result"
    }
   ],
   "source": [
    "df['userid'].nunique()"
   ]
  },
  {
   "cell_type": "code",
   "execution_count": 51,
   "metadata": {},
   "outputs": [
    {
     "data": {
      "text/html": [
       "<div>\n",
       "<style scoped>\n",
       "    .dataframe tbody tr th:only-of-type {\n",
       "        vertical-align: middle;\n",
       "    }\n",
       "\n",
       "    .dataframe tbody tr th {\n",
       "        vertical-align: top;\n",
       "    }\n",
       "\n",
       "    .dataframe thead tr th {\n",
       "        text-align: left;\n",
       "    }\n",
       "\n",
       "    .dataframe thead tr:last-of-type th {\n",
       "        text-align: right;\n",
       "    }\n",
       "</style>\n",
       "<table border=\"1\" class=\"dataframe\">\n",
       "  <thead>\n",
       "    <tr>\n",
       "      <th></th>\n",
       "      <th colspan=\"5\" halign=\"left\">sum_gamerounds</th>\n",
       "    </tr>\n",
       "    <tr>\n",
       "      <th></th>\n",
       "      <th>count</th>\n",
       "      <th>median</th>\n",
       "      <th>mean</th>\n",
       "      <th>std</th>\n",
       "      <th>max</th>\n",
       "    </tr>\n",
       "    <tr>\n",
       "      <th>version</th>\n",
       "      <th></th>\n",
       "      <th></th>\n",
       "      <th></th>\n",
       "      <th></th>\n",
       "      <th></th>\n",
       "    </tr>\n",
       "  </thead>\n",
       "  <tbody>\n",
       "    <tr>\n",
       "      <th>gate_30</th>\n",
       "      <td>44700</td>\n",
       "      <td>17.00000</td>\n",
       "      <td>52.45626</td>\n",
       "      <td>256.71642</td>\n",
       "      <td>49854</td>\n",
       "    </tr>\n",
       "    <tr>\n",
       "      <th>gate_40</th>\n",
       "      <td>45489</td>\n",
       "      <td>16.00000</td>\n",
       "      <td>51.29878</td>\n",
       "      <td>103.29442</td>\n",
       "      <td>2640</td>\n",
       "    </tr>\n",
       "  </tbody>\n",
       "</table>\n",
       "</div>"
      ],
      "text/plain": [
       "        sum_gamerounds                                   \n",
       "                 count   median     mean       std    max\n",
       "version                                                  \n",
       "gate_30          44700 17.00000 52.45626 256.71642  49854\n",
       "gate_40          45489 16.00000 51.29878 103.29442   2640"
      ]
     },
     "execution_count": 51,
     "metadata": {},
     "output_type": "execute_result"
    }
   ],
   "source": [
    "# A/B Groups & Target Summary Stats\n",
    "df.groupby(\"version\").agg({'sum_gamerounds': [\"count\", \"median\", \"mean\", \"std\", \"max\"]})"
   ]
  },
  {
   "cell_type": "markdown",
   "metadata": {},
   "source": [
    "#### Verifying whether our data meets the required assumptions to run a t-test.\n",
    "\n",
    "A standard t-test requires the data to meet certain criteria in order to be an appropriate test to use. In this script, we will focus on the following two assumptions:\n",
    "\n",
    "- **Normality**: Both samples are approximately normally distributed.\n",
    "- **Homogeneity of Variances**: Both samples have approximately the same variance.\n",
    "\n",
    "If these assumptions are not met, then a different version of the test (known as a non-parametric version of the t-test) will need to be used instead."
   ]
  },
  {
   "cell_type": "markdown",
   "metadata": {},
   "source": [
    "#### Normality"
   ]
  },
  {
   "cell_type": "code",
   "execution_count": 52,
   "metadata": {},
   "outputs": [
    {
     "name": "stdout",
     "output_type": "stream",
     "text": [
      "\u001b[1msum_gamerounds normality for gate 40: \n",
      "\u001b[0m\n",
      "Test Stat = 0.0881, p-value = 0.0000\n",
      "\u001b[1mOur series is not normally distributed. \n",
      "\u001b[0m\n"
     ]
    }
   ],
   "source": [
    "print(\"\\033[1msum_gamerounds normality for gate 40: \\n\\033[0m\")\n",
    "test_stat, pvalue = shapiro(df.loc[df[\"version\"] == \"gate_30\", \"sum_gamerounds\"])\n",
    "print('Test Stat = %.4f, p-value = %.4f' % (test_stat, pvalue))\n",
    "\n",
    "print(\"\\033[1mOur series is not normally distributed. \\n\\033[0m\")"
   ]
  },
  {
   "cell_type": "code",
   "execution_count": 53,
   "metadata": {},
   "outputs": [
    {
     "name": "stdout",
     "output_type": "stream",
     "text": [
      "\u001b[1msum_gamerounds normality for gate 40: \n",
      "\u001b[0m\n",
      "Test Stat = 0.4826, p-value = 0.0000\n",
      "\u001b[1mOur series is not normally distributed. \n",
      "\u001b[0m\n"
     ]
    }
   ],
   "source": [
    "print(\"\\033[1msum_gamerounds normality for gate 40: \\n\\033[0m\")\n",
    "test_stat, pvalue = shapiro(df.loc[df[\"version\"] == \"gate_40\", \"sum_gamerounds\"])\n",
    "print('Test Stat = %.4f, p-value = %.4f' % (test_stat, pvalue))\n",
    "\n",
    "print(\"\\033[1mOur series is not normally distributed. \\n\\033[0m\")"
   ]
  },
  {
   "cell_type": "markdown",
   "metadata": {},
   "source": [
    "#### Homogeneity of variances\n"
   ]
  },
  {
   "cell_type": "code",
   "execution_count": 54,
   "metadata": {},
   "outputs": [
    {
     "name": "stdout",
     "output_type": "stream",
     "text": [
      "\u001b[1msum_gamerounds normality for gate 30 and gate 40: \n",
      "\u001b[0m\n",
      "Test Stat = 0.5292, p-value = 0.4669\n",
      "\u001b[1mOur series is not homogen. \n",
      "\u001b[0m\n"
     ]
    }
   ],
   "source": [
    "print(\"\\033[1msum_gamerounds normality for gate 30 and gate 40: \\n\\033[0m\")\n",
    "\n",
    "\n",
    "test_stat, pvalue = levene(df.loc[df[\"version\"] == \"gate_30\", \"sum_gamerounds\"],\n",
    "                           df.loc[df[\"version\"] == \"gate_40\", \"sum_gamerounds\"])\n",
    "print('Test Stat = %.4f, p-value = %.4f' % (test_stat, pvalue))\n",
    "\n",
    "\n",
    "print(\"\\033[1mOur series is not homogen. \\n\\033[0m\")"
   ]
  },
  {
   "cell_type": "code",
   "execution_count": 55,
   "metadata": {},
   "outputs": [
    {
     "name": "stdout",
     "output_type": "stream",
     "text": [
      "Test Stat = 1024331250.5000, p-value = 0.0502\n",
      "\u001b[1mWe can not reject H0 hypothesis, so that A/B groups are similar!.\n",
      "\u001b[0m\n"
     ]
    }
   ],
   "source": [
    "#non-parametrik test\n",
    "test_stat, pvalue = mannwhitneyu(df.loc[df[\"version\"] == \"gate_30\", \"sum_gamerounds\"],\n",
    "                                 df.loc[df[\"version\"] == \"gate_40\", \"sum_gamerounds\"])\n",
    "\n",
    "print('Test Stat = %.4f, p-value = %.4f' % (test_stat, pvalue))\n",
    "\n",
    "print(\"\\033[1mWe can not reject H0 hypothesis, \"\n",
    "              \"so that A/B groups are similar!.\\n\\033[0m\")\n"
   ]
  },
  {
   "cell_type": "markdown",
   "metadata": {},
   "source": [
    "### A/B Testing After Removing The Extreme Values\n",
    "\n",
    "H0: Distribution is Normal!\n",
    "\n",
    "H1: Distribution is not Normal!\n",
    "\n",
    "H0: M1 = M2\n",
    "\n",
    "H1: M1 != M2\n"
   ]
  },
  {
   "cell_type": "code",
   "execution_count": 56,
   "metadata": {},
   "outputs": [
    {
     "data": {
      "text/plain": [
       "count   90188.00000\n",
       "mean       51.32025\n",
       "std       102.68272\n",
       "min         0.00000\n",
       "25%         5.00000\n",
       "50%        16.00000\n",
       "75%        51.00000\n",
       "max      2961.00000\n",
       "Name: sum_gamerounds, dtype: float64"
      ]
     },
     "execution_count": 56,
     "metadata": {},
     "output_type": "execute_result"
    }
   ],
   "source": [
    "\n",
    "df = df[df.sum_gamerounds < df.sum_gamerounds.max()]\n",
    "df['sum_gamerounds'].describe()"
   ]
  },
  {
   "cell_type": "code",
   "execution_count": 57,
   "metadata": {},
   "outputs": [
    {
     "data": {
      "image/png": "[encoded data removed]",
      "text/plain": [
       "<Figure size 1200x800 with 1 Axes>"
      ]
     },
     "metadata": {},
     "output_type": "display_data"
    }
   ],
   "source": [
    "fig, ax = plt.subplots(figsize = (12, 8), facecolor = \"#FFFFFF\")\n",
    "ax.set_facecolor(\"#FFFFFF\")\n",
    "\n",
    "sns.boxplot(data=df, x=\"sum_gamerounds\", y=\"version\", hue=\"version\", dodge=False,\n",
    "            flierprops={\"marker\": \"x\"}, width=.8, fliersize=10)\n",
    "plt.title('After Removing The Extreme Values', size = 10, color='#443C68')\n",
    "plt.ylabel('.', size = 10,color=\"#443C68\" )\n",
    "plt.xlabel('sum_gamerounds Density', fontsize = 10,color=\"#443C68\" )\n",
    "plt.xticks(size = 10)\n",
    "plt.yticks(size = 10)\n",
    "plt.show()\n"
   ]
  },
  {
   "cell_type": "code",
   "execution_count": 58,
   "metadata": {},
   "outputs": [
    {
     "data": {
      "text/plain": [
       "(50.650095717882365, 51.990410779656116)"
      ]
     },
     "execution_count": 58,
     "metadata": {},
     "output_type": "execute_result"
    }
   ],
   "source": [
    "# What is the confidence interval for the 'REVENUE' value?\n",
    "\n",
    "sms.DescrStatsW(df[\"sum_gamerounds\"]).tconfint_mean()"
   ]
  },
  {
   "cell_type": "code",
   "execution_count": 59,
   "metadata": {},
   "outputs": [
    {
     "data": {
      "text/html": [
       "<div>\n",
       "<style scoped>\n",
       "    .dataframe tbody tr th:only-of-type {\n",
       "        vertical-align: middle;\n",
       "    }\n",
       "\n",
       "    .dataframe tbody tr th {\n",
       "        vertical-align: top;\n",
       "    }\n",
       "\n",
       "    .dataframe thead tr th {\n",
       "        text-align: left;\n",
       "    }\n",
       "</style>\n",
       "<table border=\"1\" class=\"dataframe\">\n",
       "  <thead>\n",
       "    <tr>\n",
       "      <th></th>\n",
       "      <th>version</th>\n",
       "      <th colspan=\"2\" halign=\"left\">sum_gamerounds</th>\n",
       "    </tr>\n",
       "    <tr>\n",
       "      <th></th>\n",
       "      <th></th>\n",
       "      <th>sum</th>\n",
       "      <th>count</th>\n",
       "    </tr>\n",
       "  </thead>\n",
       "  <tbody>\n",
       "    <tr>\n",
       "      <th>0</th>\n",
       "      <td>gate_30</td>\n",
       "      <td>2294941</td>\n",
       "      <td>44699</td>\n",
       "    </tr>\n",
       "    <tr>\n",
       "      <th>1</th>\n",
       "      <td>gate_40</td>\n",
       "      <td>2333530</td>\n",
       "      <td>45489</td>\n",
       "    </tr>\n",
       "  </tbody>\n",
       "</table>\n",
       "</div>"
      ],
      "text/plain": [
       "   version sum_gamerounds       \n",
       "                      sum  count\n",
       "0  gate_30        2294941  44699\n",
       "1  gate_40        2333530  45489"
      ]
     },
     "execution_count": 59,
     "metadata": {},
     "output_type": "execute_result"
    }
   ],
   "source": [
    "df.groupby('version').agg({'sum_gamerounds': ['sum', 'count']}).reset_index()"
   ]
  },
  {
   "cell_type": "markdown",
   "metadata": {},
   "source": [
    "#### Normality"
   ]
  },
  {
   "cell_type": "code",
   "execution_count": 60,
   "metadata": {},
   "outputs": [
    {
     "name": "stdout",
     "output_type": "stream",
     "text": [
      "\u001b[1msum_gamerounds normality for gate 40: \n",
      "\u001b[0m\n",
      "Test Stat = 0.4886, p-value = 0.0000\n",
      "\u001b[1mOur series is not normally distributed. \n",
      "\u001b[0m\n"
     ]
    }
   ],
   "source": [
    "print(\"\\033[1msum_gamerounds normality for gate 40: \\n\\033[0m\")\n",
    "test_stat, pvalue = shapiro(df.loc[df[\"version\"] == \"gate_30\", \"sum_gamerounds\"])\n",
    "print('Test Stat = %.4f, p-value = %.4f' % (test_stat, pvalue))\n",
    "\n",
    "print(\"\\033[1mOur series is not normally distributed. \\n\\033[0m\")"
   ]
  },
  {
   "cell_type": "code",
   "execution_count": 61,
   "metadata": {},
   "outputs": [
    {
     "name": "stdout",
     "output_type": "stream",
     "text": [
      "\u001b[1msum_gamerounds normality for gate 40: \n",
      "\u001b[0m\n",
      "Test Stat = 0.4826, p-value = 0.0000\n",
      "\u001b[1mOur series is not normally distributed. \n",
      "\u001b[0m\n"
     ]
    }
   ],
   "source": [
    "print(\"\\033[1msum_gamerounds normality for gate 40: \\n\\033[0m\")\n",
    "test_stat, pvalue = shapiro(df.loc[df[\"version\"] == \"gate_40\", \"sum_gamerounds\"])\n",
    "print('Test Stat = %.4f, p-value = %.4f' % (test_stat, pvalue))\n",
    "\n",
    "\n",
    "print(\"\\033[1mOur series is not normally distributed. \\n\\033[0m\")\n"
   ]
  },
  {
   "cell_type": "markdown",
   "metadata": {},
   "source": [
    "#### Homogeneity of variances\n"
   ]
  },
  {
   "cell_type": "code",
   "execution_count": 62,
   "metadata": {},
   "outputs": [
    {
     "name": "stdout",
     "output_type": "stream",
     "text": [
      "\u001b[1msum_gamerounds normality for gate 30 and gate 40: \n",
      "\u001b[0m\n",
      "Test Stat = 0.0751, p-value = 0.7840\n",
      "\u001b[1mOur variance of series is homogen. \n",
      "\u001b[0m\n"
     ]
    }
   ],
   "source": [
    "print(\"\\033[1msum_gamerounds normality for gate 30 and gate 40: \\n\\033[0m\")\n",
    "\n",
    "\n",
    "test_stat, pvalue = levene(df.loc[df[\"version\"] == \"gate_30\", \"sum_gamerounds\"],\n",
    "                           df.loc[df[\"version\"] == \"gate_40\", \"sum_gamerounds\"])\n",
    "print('Test Stat = %.4f, p-value = %.4f' % (test_stat, pvalue))\n",
    "\n",
    "print(\"\\033[1mOur variance of series is homogen. \\n\\033[0m\")\n"
   ]
  },
  {
   "cell_type": "code",
   "execution_count": 63,
   "metadata": {},
   "outputs": [
    {
     "name": "stdout",
     "output_type": "stream",
     "text": [
      "Test Stat = 1024285761.5000, p-value = 0.0509\n",
      "\u001b[1mWe can not reject H0 hypothesis, so that A/B groups are similar!.\n",
      "\u001b[0m\n"
     ]
    }
   ],
   "source": [
    "#non-parametrik test\n",
    "test_stat, pvalue = mannwhitneyu(df.loc[df[\"version\"] == \"gate_30\", \"sum_gamerounds\"],\n",
    "                                 df.loc[df[\"version\"] == \"gate_40\", \"sum_gamerounds\"])\n",
    "\n",
    "print('Test Stat = %.4f, p-value = %.4f' % (test_stat, pvalue))\n",
    "\n",
    "print(\"\\033[1mWe can not reject H0 hypothesis, \"\n",
    "              \"so that A/B groups are similar!.\\n\\033[0m\")"
   ]
  },
  {
   "cell_type": "markdown",
   "metadata": {},
   "source": [
    "\n",
    "### Conclusion:\n",
    "\n",
    "If we need to summarise briefly;\n",
    "\n",
    "- We apply Mann Whitney U test for comparing sum_gamerounds for both versions.\n",
    " \n",
    "- For Mann Whitney U test, we don't have statistically significant difference between groups. They have similar sum_gamerounds.\n",
    "      \n",
    "- The Mann Whitney U test I ran before cleaning out the outliers yielded p_value=0.0502. \n",
    "          \n",
    "- When I cleared the maximum value, p_value=0.0509 appeared. In this case, we can say that the H0 hypothesis cannot be rejected. \n",
    "               \n",
    "- However, in order to reach a clearer conclusion, it is necessary to perform A/B test on a larger data set. In addition, a larger change to the outliers may reduce the yyy value to less than 0.05."
   ]
  },
  {
   "cell_type": "markdown",
   "metadata": {},
   "source": [
    "---\n",
    "\n",
    "The above code is from Kaggle users [serdarozturk](https://www.kaggle.com/code/serdarsozturk/a-b-mobilegame) and [muhammetgamal5](https://www.kaggle.com/code/muhammetgamal5/cookie-cats-a-b-testing-p-value).\n",
    "\n",
    "Hopefully this bonus lecture and lab gave you a flavour for how A/B tests can be run in practice. They are a common method of optimising various aspects websites, apps, games, etc. and it is useful to see how some Kaggle users approach the EDA, data pre-processing, and statistical testing steps when working with a new script.\n",
    "\n",
    "## New challenge\n",
    "\n",
    "Try applying some of the above functions and methods you've learned to one of the other datasets on MyAberdeen!"
   ]
  }
 ],
 "metadata": {
  "kernelspec": {
   "display_name": "Python 3",
   "language": "python",
   "name": "python3"
  },
  "language_info": {
   "codemirror_mode": {
    "name": "ipython",
    "version": 3
   },
   "file_extension": ".py",
   "mimetype": "text/x-python",
   "name": "python",
   "nbconvert_exporter": "python",
   "pygments_lexer": "ipython3",
   "version": "3.10.8"
  }
 },
 "nbformat": 4,
 "nbformat_minor": 2
}
