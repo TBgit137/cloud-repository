{
 "cells": [
  {
   "cell_type": "markdown",
   "metadata": {},
   "source": [
    "# JC3503 Assignment 2024-2025 \n",
    "\n",
    "## Movies\n",
    "\n",
    "---\n",
    "\n",
    "Student Name: [enter your name here]\n",
    "\n",
    "Student Email: [enter your email here]\n",
    "\n",
    "Student ID: [enter your student ID here]\n",
    "\n",
    "---\n"
   ]
  },
  {
   "cell_type": "markdown",
   "metadata": {},
   "source": [
    "<u>**Date due: Friday 30th May, 2025, at 23:59 (UTC+8; Beijing time)**</u>\n",
    "\n",
    "\n",
    "You should use markdown to explain the different steps of your analysis, and to add your own interpretation of what that analysis shows. \n",
    "\n",
    "Your notebook should alternate between markdown and analysis code. However, you should also use code comments, where appropriate, to explain your process.\n",
    "\n",
    "**Note that all comments and markdown should be in English.**"
   ]
  },
  {
   "cell_type": "code",
   "execution_count": 2,
   "metadata": {},
   "outputs": [],
   "source": [
    "# Add all pre-requisites and libraries here\n",
    "import pandas as pd\n",
    "import seaborn as sns\n",
    "import sklearn as sk"
   ]
  },
  {
   "cell_type": "code",
   "execution_count": 3,
   "metadata": {},
   "outputs": [],
   "source": [
    "# Import the data\n",
    "df = pd.read_csv(\"movies.csv\", low_memory=False)"
   ]
  }
 ],
 "metadata": {
  "kernelspec": {
   "display_name": "Python 3",
   "language": "python",
   "name": "python3"
  },
  "language_info": {
   "codemirror_mode": {
    "name": "ipython",
    "version": 3
   },
   "file_extension": ".py",
   "mimetype": "text/x-python",
   "name": "python",
   "nbconvert_exporter": "python",
   "pygments_lexer": "ipython3",
   "version": "3.10.8"
  }
 },
 "nbformat": 4,
 "nbformat_minor": 2
}
