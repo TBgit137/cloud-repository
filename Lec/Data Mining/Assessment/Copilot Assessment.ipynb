{
 "cells": [
  {
   "cell_type": "markdown",
   "id": "b7d39fee",
   "metadata": {},
   "source": [
    "# 根据assessment.pdf中的要求，分析movies.csv数据集的Jupyter Notebook"
   ]
  },
  {
   "cell_type": "markdown",
   "id": "bc50ed11",
   "metadata": {},
   "source": [
    "## 导入必要的库\n",
    "导入pandas、numpy、matplotlib、seaborn等库。"
   ]
  },
  {
   "cell_type": "code",
   "execution_count": 4,
   "id": "af94b3ed",
   "metadata": {},
   "outputs": [],
   "source": [
    "# 导入必要的库\n",
    "import pandas as pd\n",
    "import numpy as np\n",
    "import matplotlib.pyplot as plt\n",
    "import seaborn as sns\n",
    "\n",
    "# 显示图表\n",
    "%matplotlib inline\n",
    "\n",
    "# 设置绘图风格\n",
    "sns.set(style=\"whitegrid\")"
   ]
  },
  {
   "cell_type": "markdown",
   "id": "5291052e",
   "metadata": {},
   "source": [
    "## 加载和探索数据\n",
    "加载movies.csv数据集，查看数据的基本信息和统计描述。"
   ]
  },
  {
   "cell_type": "code",
   "execution_count": 5,
   "id": "df465332",
   "metadata": {},
   "outputs": [
    {
     "name": "stdout",
     "output_type": "stream",
     "text": [
      "<class 'pandas.core.frame.DataFrame'>\n",
      "RangeIndex: 4803 entries, 0 to 4802\n",
      "Data columns (total 20 columns):\n",
      " #   Column                Non-Null Count  Dtype  \n",
      "---  ------                --------------  -----  \n",
      " 0   budget                4803 non-null   int64  \n",
      " 1   genres                4803 non-null   object \n",
      " 2   homepage              1712 non-null   object \n",
      " 3   id                    4803 non-null   int64  \n",
      " 4   keywords              4803 non-null   object \n",
      " 5   original_language     4803 non-null   object \n",
      " 6   original_title        4803 non-null   object \n",
      " 7   overview              4800 non-null   object \n",
      " 8   popularity            4803 non-null   float64\n",
      " 9   production_companies  4803 non-null   object \n",
      " 10  production_countries  4803 non-null   object \n",
      " 11  release_date          4802 non-null   object \n",
      " 12  revenue               4803 non-null   int64  \n",
      " 13  runtime               4801 non-null   float64\n",
      " 14  spoken_languages      4803 non-null   object \n",
      " 15  status                4803 non-null   object \n",
      " 16  tagline               3959 non-null   object \n",
      " 17  title                 4803 non-null   object \n",
      " 18  vote_average          4803 non-null   float64\n",
      " 19  vote_count            4803 non-null   int64  \n",
      "dtypes: float64(3), int64(4), object(13)\n",
      "memory usage: 750.6+ KB\n",
      "None\n",
      "             budget             id   popularity       revenue      runtime  \\\n",
      "count  4.803000e+03    4803.000000  4803.000000  4.803000e+03  4801.000000   \n",
      "mean   2.904504e+07   57165.484281    21.492301  8.226064e+07   106.875859   \n",
      "std    4.072239e+07   88694.614033    31.816650  1.628571e+08    22.611935   \n",
      "min    0.000000e+00       5.000000     0.000000  0.000000e+00     0.000000   \n",
      "25%    7.900000e+05    9014.500000     4.668070  0.000000e+00    94.000000   \n",
      "50%    1.500000e+07   14629.000000    12.921594  1.917000e+07   103.000000   \n",
      "75%    4.000000e+07   58610.500000    28.313505  9.291719e+07   118.000000   \n",
      "max    3.800000e+08  459488.000000   875.581305  2.787965e+09   338.000000   \n",
      "\n",
      "       vote_average    vote_count  \n",
      "count   4803.000000   4803.000000  \n",
      "mean       6.092172    690.217989  \n",
      "std        1.194612   1234.585891  \n",
      "min        0.000000      0.000000  \n",
      "25%        5.600000     54.000000  \n",
      "50%        6.200000    235.000000  \n",
      "75%        6.800000    737.000000  \n",
      "max       10.000000  13752.000000  \n"
     ]
    }
   ],
   "source": [
    "# 加载数据\n",
    "movies = pd.read_csv(\"movies.csv\")\n",
    "\n",
    "# 查看数据的基本信息\n",
    "print(movies.info())\n",
    "\n",
    "# 查看数据的统计描述\n",
    "print(movies.describe())"
   ]
  },
  {
   "cell_type": "markdown",
   "id": "ae0e5b30",
   "metadata": {},
   "source": [
    "## 数据清洗\n",
    "处理缺失值、重复值以及数据类型转换等问题。"
   ]
  },
  {
   "cell_type": "code",
   "execution_count": 6,
   "id": "183fddf3",
   "metadata": {},
   "outputs": [
    {
     "name": "stdout",
     "output_type": "stream",
     "text": [
      "budget                     0\n",
      "genres                     0\n",
      "homepage                3091\n",
      "id                         0\n",
      "keywords                   0\n",
      "original_language          0\n",
      "original_title             0\n",
      "overview                   3\n",
      "popularity                 0\n",
      "production_companies       0\n",
      "production_countries       0\n",
      "release_date               1\n",
      "revenue                    0\n",
      "runtime                    2\n",
      "spoken_languages           0\n",
      "status                     0\n",
      "tagline                  844\n",
      "title                      0\n",
      "vote_average               0\n",
      "vote_count                 0\n",
      "dtype: int64\n",
      "重复值数量: 0\n"
     ]
    }
   ],
   "source": [
    "# 检查缺失值\n",
    "print(movies.isnull().sum())\n",
    "\n",
    "# 填充或删除缺失值\n",
    "movies = movies.dropna()\n",
    "\n",
    "# 检查重复值\n",
    "print(f\"重复值数量: {movies.duplicated().sum()}\")\n",
    "\n",
    "# 删除重复值\n",
    "movies = movies.drop_duplicates()\n",
    "\n",
    "# 确保数据类型正确\n",
    "movies[\"budget\"] = movies[\"budget\"].astype(float)\n",
    "movies[\"revenue\"] = movies[\"revenue\"].astype(float)"
   ]
  },
  {
   "cell_type": "markdown",
   "id": "fdb547eb",
   "metadata": {},
   "source": [
    "## 数据可视化\n",
    "使用matplotlib和seaborn绘制数据分布图、相关性热图等。"
   ]
  },
  {
   "cell_type": "code",
   "execution_count": 7,
   "id": "c8147f1b",
   "metadata": {},
   "outputs": [
    {
     "name": "stderr",
     "output_type": "stream",
     "text": [
      "C:\\Users\\13310\\AppData\\Roaming\\Python\\Python313\\site-packages\\IPython\\core\\pylabtools.py:170: UserWarning: Glyph 39044 (\\N{CJK UNIFIED IDEOGRAPH-9884}) missing from font(s) Arial.\n",
      "  fig.canvas.print_figure(bytes_io, **kw)\n",
      "C:\\Users\\13310\\AppData\\Roaming\\Python\\Python313\\site-packages\\IPython\\core\\pylabtools.py:170: UserWarning: Glyph 31639 (\\N{CJK UNIFIED IDEOGRAPH-7B97}) missing from font(s) Arial.\n",
      "  fig.canvas.print_figure(bytes_io, **kw)\n",
      "C:\\Users\\13310\\AppData\\Roaming\\Python\\Python313\\site-packages\\IPython\\core\\pylabtools.py:170: UserWarning: Glyph 39057 (\\N{CJK UNIFIED IDEOGRAPH-9891}) missing from font(s) Arial.\n",
      "  fig.canvas.print_figure(bytes_io, **kw)\n",
      "C:\\Users\\13310\\AppData\\Roaming\\Python\\Python313\\site-packages\\IPython\\core\\pylabtools.py:170: UserWarning: Glyph 29575 (\\N{CJK UNIFIED IDEOGRAPH-7387}) missing from font(s) Arial.\n",
      "  fig.canvas.print_figure(bytes_io, **kw)\n",
      "C:\\Users\\13310\\AppData\\Roaming\\Python\\Python313\\site-packages\\IPython\\core\\pylabtools.py:170: UserWarning: Glyph 30005 (\\N{CJK UNIFIED IDEOGRAPH-7535}) missing from font(s) Arial.\n",
      "  fig.canvas.print_figure(bytes_io, **kw)\n",
      "C:\\Users\\13310\\AppData\\Roaming\\Python\\Python313\\site-packages\\IPython\\core\\pylabtools.py:170: UserWarning: Glyph 24433 (\\N{CJK UNIFIED IDEOGRAPH-5F71}) missing from font(s) Arial.\n",
      "  fig.canvas.print_figure(bytes_io, **kw)\n",
      "C:\\Users\\13310\\AppData\\Roaming\\Python\\Python313\\site-packages\\IPython\\core\\pylabtools.py:170: UserWarning: Glyph 20998 (\\N{CJK UNIFIED IDEOGRAPH-5206}) missing from font(s) Arial.\n",
      "  fig.canvas.print_figure(bytes_io, **kw)\n",
      "C:\\Users\\13310\\AppData\\Roaming\\Python\\Python313\\site-packages\\IPython\\core\\pylabtools.py:170: UserWarning: Glyph 24067 (\\N{CJK UNIFIED IDEOGRAPH-5E03}) missing from font(s) Arial.\n",
      "  fig.canvas.print_figure(bytes_io, **kw)\n"
     ]
    },
    {
     "data": {
      "image/png": "[encoded data removed]",
      "text/plain": [
       "<Figure size 1000x600 with 1 Axes>"
      ]
     },
     "metadata": {},
     "output_type": "display_data"
    },
    {
     "ename": "ValueError",
     "evalue": "could not convert string to float: '[{\"id\": 28, \"name\": \"Action\"}, {\"id\": 12, \"name\": \"Adventure\"}, {\"id\": 14, \"name\": \"Fantasy\"}, {\"id\": 878, \"name\": \"Science Fiction\"}]'",
     "output_type": "error",
     "traceback": [
      "\u001b[31m---------------------------------------------------------------------------\u001b[39m",
      "\u001b[31mValueError\u001b[39m                                Traceback (most recent call last)",
      "\u001b[36mCell\u001b[39m\u001b[36m \u001b[39m\u001b[32mIn[7]\u001b[39m\u001b[32m, line 11\u001b[39m\n\u001b[32m      9\u001b[39m \u001b[38;5;66;03m# 绘制相关性热图\u001b[39;00m\n\u001b[32m     10\u001b[39m plt.figure(figsize=(\u001b[32m8\u001b[39m, \u001b[32m6\u001b[39m))\n\u001b[32m---> \u001b[39m\u001b[32m11\u001b[39m correlation_matrix = \u001b[43mmovies\u001b[49m\u001b[43m.\u001b[49m\u001b[43mcorr\u001b[49m\u001b[43m(\u001b[49m\u001b[43m)\u001b[49m\n\u001b[32m     12\u001b[39m sns.heatmap(correlation_matrix, annot=\u001b[38;5;28;01mTrue\u001b[39;00m, cmap=\u001b[33m\"\u001b[39m\u001b[33mcoolwarm\u001b[39m\u001b[33m\"\u001b[39m, fmt=\u001b[33m\"\u001b[39m\u001b[33m.2f\u001b[39m\u001b[33m\"\u001b[39m)\n\u001b[32m     13\u001b[39m plt.title(\u001b[33m\"\u001b[39m\u001b[33m相关性热图\u001b[39m\u001b[33m\"\u001b[39m)\n",
      "\u001b[36mFile \u001b[39m\u001b[32md:\\python313\\Lib\\site-packages\\pandas\\core\\frame.py:11049\u001b[39m, in \u001b[36mDataFrame.corr\u001b[39m\u001b[34m(self, method, min_periods, numeric_only)\u001b[39m\n\u001b[32m  11047\u001b[39m cols = data.columns\n\u001b[32m  11048\u001b[39m idx = cols.copy()\n\u001b[32m> \u001b[39m\u001b[32m11049\u001b[39m mat = \u001b[43mdata\u001b[49m\u001b[43m.\u001b[49m\u001b[43mto_numpy\u001b[49m\u001b[43m(\u001b[49m\u001b[43mdtype\u001b[49m\u001b[43m=\u001b[49m\u001b[38;5;28;43mfloat\u001b[39;49m\u001b[43m,\u001b[49m\u001b[43m \u001b[49m\u001b[43mna_value\u001b[49m\u001b[43m=\u001b[49m\u001b[43mnp\u001b[49m\u001b[43m.\u001b[49m\u001b[43mnan\u001b[49m\u001b[43m,\u001b[49m\u001b[43m \u001b[49m\u001b[43mcopy\u001b[49m\u001b[43m=\u001b[49m\u001b[38;5;28;43;01mFalse\u001b[39;49;00m\u001b[43m)\u001b[49m\n\u001b[32m  11051\u001b[39m \u001b[38;5;28;01mif\u001b[39;00m method == \u001b[33m\"\u001b[39m\u001b[33mpearson\u001b[39m\u001b[33m\"\u001b[39m:\n\u001b[32m  11052\u001b[39m     correl = libalgos.nancorr(mat, minp=min_periods)\n",
      "\u001b[36mFile \u001b[39m\u001b[32md:\\python313\\Lib\\site-packages\\pandas\\core\\frame.py:1993\u001b[39m, in \u001b[36mDataFrame.to_numpy\u001b[39m\u001b[34m(self, dtype, copy, na_value)\u001b[39m\n\u001b[32m   1991\u001b[39m \u001b[38;5;28;01mif\u001b[39;00m dtype \u001b[38;5;129;01mis\u001b[39;00m \u001b[38;5;129;01mnot\u001b[39;00m \u001b[38;5;28;01mNone\u001b[39;00m:\n\u001b[32m   1992\u001b[39m     dtype = np.dtype(dtype)\n\u001b[32m-> \u001b[39m\u001b[32m1993\u001b[39m result = \u001b[38;5;28;43mself\u001b[39;49m\u001b[43m.\u001b[49m\u001b[43m_mgr\u001b[49m\u001b[43m.\u001b[49m\u001b[43mas_array\u001b[49m\u001b[43m(\u001b[49m\u001b[43mdtype\u001b[49m\u001b[43m=\u001b[49m\u001b[43mdtype\u001b[49m\u001b[43m,\u001b[49m\u001b[43m \u001b[49m\u001b[43mcopy\u001b[49m\u001b[43m=\u001b[49m\u001b[43mcopy\u001b[49m\u001b[43m,\u001b[49m\u001b[43m \u001b[49m\u001b[43mna_value\u001b[49m\u001b[43m=\u001b[49m\u001b[43mna_value\u001b[49m\u001b[43m)\u001b[49m\n\u001b[32m   1994\u001b[39m \u001b[38;5;28;01mif\u001b[39;00m result.dtype \u001b[38;5;129;01mis\u001b[39;00m \u001b[38;5;129;01mnot\u001b[39;00m dtype:\n\u001b[32m   1995\u001b[39m     result = np.asarray(result, dtype=dtype)\n",
      "\u001b[36mFile \u001b[39m\u001b[32md:\\python313\\Lib\\site-packages\\pandas\\core\\internals\\managers.py:1694\u001b[39m, in \u001b[36mBlockManager.as_array\u001b[39m\u001b[34m(self, dtype, copy, na_value)\u001b[39m\n\u001b[32m   1692\u001b[39m         arr.flags.writeable = \u001b[38;5;28;01mFalse\u001b[39;00m\n\u001b[32m   1693\u001b[39m \u001b[38;5;28;01melse\u001b[39;00m:\n\u001b[32m-> \u001b[39m\u001b[32m1694\u001b[39m     arr = \u001b[38;5;28;43mself\u001b[39;49m\u001b[43m.\u001b[49m\u001b[43m_interleave\u001b[49m\u001b[43m(\u001b[49m\u001b[43mdtype\u001b[49m\u001b[43m=\u001b[49m\u001b[43mdtype\u001b[49m\u001b[43m,\u001b[49m\u001b[43m \u001b[49m\u001b[43mna_value\u001b[49m\u001b[43m=\u001b[49m\u001b[43mna_value\u001b[49m\u001b[43m)\u001b[49m\n\u001b[32m   1695\u001b[39m     \u001b[38;5;66;03m# The underlying data was copied within _interleave, so no need\u001b[39;00m\n\u001b[32m   1696\u001b[39m     \u001b[38;5;66;03m# to further copy if copy=True or setting na_value\u001b[39;00m\n\u001b[32m   1698\u001b[39m \u001b[38;5;28;01mif\u001b[39;00m na_value \u001b[38;5;129;01mis\u001b[39;00m lib.no_default:\n",
      "\u001b[36mFile \u001b[39m\u001b[32md:\\python313\\Lib\\site-packages\\pandas\\core\\internals\\managers.py:1753\u001b[39m, in \u001b[36mBlockManager._interleave\u001b[39m\u001b[34m(self, dtype, na_value)\u001b[39m\n\u001b[32m   1751\u001b[39m     \u001b[38;5;28;01melse\u001b[39;00m:\n\u001b[32m   1752\u001b[39m         arr = blk.get_values(dtype)\n\u001b[32m-> \u001b[39m\u001b[32m1753\u001b[39m     \u001b[43mresult\u001b[49m\u001b[43m[\u001b[49m\u001b[43mrl\u001b[49m\u001b[43m.\u001b[49m\u001b[43mindexer\u001b[49m\u001b[43m]\u001b[49m = arr\n\u001b[32m   1754\u001b[39m     itemmask[rl.indexer] = \u001b[32m1\u001b[39m\n\u001b[32m   1756\u001b[39m \u001b[38;5;28;01mif\u001b[39;00m \u001b[38;5;129;01mnot\u001b[39;00m itemmask.all():\n",
      "\u001b[31mValueError\u001b[39m: could not convert string to float: '[{\"id\": 28, \"name\": \"Action\"}, {\"id\": 12, \"name\": \"Adventure\"}, {\"id\": 14, \"name\": \"Fantasy\"}, {\"id\": 878, \"name\": \"Science Fiction\"}]'"
     ]
    },
    {
     "data": {
      "text/plain": [
       "<Figure size 800x600 with 0 Axes>"
      ]
     },
     "metadata": {},
     "output_type": "display_data"
    }
   ],
   "source": [
    "# 绘制数据分布图\n",
    "plt.figure(figsize=(10, 6))\n",
    "sns.histplot(movies[\"budget\"], kde=True, bins=30, color=\"blue\")\n",
    "plt.title(\"电影预算分布\")\n",
    "plt.xlabel(\"预算\")\n",
    "plt.ylabel(\"频率\")\n",
    "plt.show()\n",
    "\n",
    "# 绘制相关性热图\n",
    "plt.figure(figsize=(8, 6))\n",
    "correlation_matrix = movies.corr()\n",
    "sns.heatmap(correlation_matrix, annot=True, cmap=\"coolwarm\", fmt=\".2f\")\n",
    "plt.title(\"相关性热图\")\n",
    "plt.show()"
   ]
  },
  {
   "cell_type": "markdown",
   "id": "48b8215e",
   "metadata": {},
   "source": [
    "## 分析电影预算与收入的关系\n",
    "通过散点图和回归分析，探索电影预算与收入之间的关系。"
   ]
  },
  {
   "cell_type": "code",
   "execution_count": null,
   "id": "82cc74a5",
   "metadata": {},
   "outputs": [],
   "source": [
    "# 绘制预算与收入的散点图\n",
    "plt.figure(figsize=(10, 6))\n",
    "sns.scatterplot(x=\"budget\", y=\"revenue\", data=movies, alpha=0.7)\n",
    "plt.title(\"电影预算与收入的关系\")\n",
    "plt.xlabel(\"预算\")\n",
    "plt.ylabel(\"收入\")\n",
    "plt.show()\n",
    "\n",
    "# 回归分析\n",
    "sns.lmplot(x=\"budget\", y=\"revenue\", data=movies, aspect=2, height=6)\n",
    "plt.title(\"预算与收入的回归分析\")\n",
    "plt.xlabel(\"预算\")\n",
    "plt.ylabel(\"收入\")\n",
    "plt.show()"
   ]
  },
  {
   "cell_type": "markdown",
   "id": "0f73194c",
   "metadata": {},
   "source": [
    "## 分析电影类型的分布\n",
    "统计并可视化不同电影类型的分布情况。"
   ]
  },
  {
   "cell_type": "code",
   "execution_count": null,
   "id": "a36dad0a",
   "metadata": {},
   "outputs": [],
   "source": [
    "# 统计电影类型的分布\n",
    "genre_counts = movies[\"genre\"].value_counts()\n",
    "\n",
    "# 可视化电影类型分布\n",
    "plt.figure(figsize=(12, 6))\n",
    "sns.barplot(x=genre_counts.index, y=genre_counts.values, palette=\"viridis\")\n",
    "plt.title(\"电影类型分布\")\n",
    "plt.xlabel(\"电影类型\")\n",
    "plt.ylabel(\"数量\")\n",
    "plt.xticks(rotation=45)\n",
    "plt.show()"
   ]
  },
  {
   "cell_type": "markdown",
   "id": "36a9e8d1",
   "metadata": {},
   "source": [
    "## 分析电影时长与评分的关系\n",
    "通过散点图和箱线图，分析电影时长与评分之间的关系。"
   ]
  },
  {
   "cell_type": "code",
   "execution_count": null,
   "id": "3faa864f",
   "metadata": {},
   "outputs": [],
   "source": [
    "# 绘制时长与评分的散点图\n",
    "plt.figure(figsize=(10, 6))\n",
    "sns.scatterplot(x=\"duration\", y=\"rating\", data=movies, alpha=0.7)\n",
    "plt.title(\"电影时长与评分的关系\")\n",
    "plt.xlabel(\"时长\")\n",
    "plt.ylabel(\"评分\")\n",
    "plt.show()\n",
    "\n",
    "# 绘制时长分组的评分箱线图\n",
    "plt.figure(figsize=(12, 6))\n",
    "sns.boxplot(x=pd.cut(movies[\"duration\"], bins=5), y=\"rating\", data=movies)\n",
    "plt.title(\"电影时长分组与评分的关系\")\n",
    "plt.xlabel(\"时长分组\")\n",
    "plt.ylabel(\"评分\")\n",
    "plt.show()"
   ]
  },
  {
   "cell_type": "markdown",
   "id": "ec431daa",
   "metadata": {},
   "source": [
    "## 分析不同语言电影的受欢迎程度\n",
    "统计不同语言电影的数量和平均评分，分析其受欢迎程度。"
   ]
  },
  {
   "cell_type": "code",
   "execution_count": null,
   "id": "6db1a047",
   "metadata": {},
   "outputs": [],
   "source": [
    "# 统计不同语言的电影数量和平均评分\n",
    "language_stats = movies.groupby(\"language\").agg({\"rating\": [\"mean\", \"count\"]}).reset_index()\n",
    "language_stats.columns = [\"language\", \"average_rating\", \"movie_count\"]\n",
    "\n",
    "# 可视化不同语言电影的受欢迎程度\n",
    "plt.figure(figsize=(12, 6))\n",
    "sns.barplot(x=\"language\", y=\"average_rating\", data=language_stats, palette=\"coolwarm\")\n",
    "plt.title(\"不同语言电影的平均评分\")\n",
    "plt.xlabel(\"语言\")\n",
    "plt.ylabel(\"平均评分\")\n",
    "plt.xticks(rotation=45)\n",
    "plt.show()"
   ]
  },
  {
   "cell_type": "markdown",
   "id": "14166163",
   "metadata": {},
   "source": [
    "## 保存分析结果\n",
    "将分析结果保存为CSV文件或图片文件。"
   ]
  },
  {
   "cell_type": "code",
   "execution_count": null,
   "id": "b3ef0a92",
   "metadata": {},
   "outputs": [],
   "source": [
    "# 保存分析结果\n",
    "language_stats.to_csv(\"language_stats.csv\", index=False)\n",
    "plt.savefig(\"language_rating_distribution.png\")\n",
    "print(\"分析结果已保存。\")"
   ]
  }
 ],
 "metadata": {
  "kernelspec": {
   "display_name": "Python 3",
   "language": "python",
   "name": "python3"
  },
  "language_info": {
   "codemirror_mode": {
    "name": "ipython",
    "version": 3
   },
   "file_extension": ".py",
   "mimetype": "text/x-python",
   "name": "python",
   "nbconvert_exporter": "python",
   "pygments_lexer": "ipython3",
   "version": "3.13.3"
  }
 },
 "nbformat": 4,
 "nbformat_minor": 5
}
